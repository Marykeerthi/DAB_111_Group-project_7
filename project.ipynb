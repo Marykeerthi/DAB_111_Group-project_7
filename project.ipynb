{
 "cells": [
  {
   "cell_type": "code",
   "execution_count": 1,
   "metadata": {},
   "outputs": [
    {
     "name": "stdout",
     "output_type": "stream",
     "text": [
      "Defaulting to user installation because normal site-packages is not writeable\n",
      "Note: you may need to restart the kernel to use updated packages.\n"
     ]
    },
    {
     "name": "stderr",
     "output_type": "stream",
     "text": [
      "ERROR: Could not find a version that satisfies the requirement Flaskpip (from versions: none)\n",
      "ERROR: No matching distribution found for Flaskpip\n",
      "\n",
      "[notice] A new release of pip is available: 24.0 -> 24.1.2\n",
      "[notice] To update, run: C:\\Users\\mkp15\\AppData\\Local\\Microsoft\\WindowsApps\\PythonSoftwareFoundation.Python.3.12_qbz5n2kfra8p0\\python.exe -m pip install --upgrade pip\n"
     ]
    }
   ],
   "source": [
    "pip install -U Flaskpip install -U Flask \n"
   ]
  },
  {
   "cell_type": "code",
   "execution_count": 2,
   "metadata": {},
   "outputs": [
    {
     "name": "stdout",
     "output_type": "stream",
     "text": [
      "Defaulting to user installation because normal site-packages is not writeable\n",
      "Requirement already satisfied: pandas in c:\\users\\mkp15\\appdata\\local\\packages\\pythonsoftwarefoundation.python.3.12_qbz5n2kfra8p0\\localcache\\local-packages\\python312\\site-packages (2.2.2)\n",
      "Requirement already satisfied: numpy>=1.26.0 in c:\\users\\mkp15\\appdata\\local\\packages\\pythonsoftwarefoundation.python.3.12_qbz5n2kfra8p0\\localcache\\local-packages\\python312\\site-packages (from pandas) (2.0.0)\n",
      "Requirement already satisfied: python-dateutil>=2.8.2 in c:\\users\\mkp15\\appdata\\local\\packages\\pythonsoftwarefoundation.python.3.12_qbz5n2kfra8p0\\localcache\\local-packages\\python312\\site-packages (from pandas) (2.9.0.post0)\n",
      "Requirement already satisfied: pytz>=2020.1 in c:\\users\\mkp15\\appdata\\local\\packages\\pythonsoftwarefoundation.python.3.12_qbz5n2kfra8p0\\localcache\\local-packages\\python312\\site-packages (from pandas) (2024.1)\n",
      "Requirement already satisfied: tzdata>=2022.7 in c:\\users\\mkp15\\appdata\\local\\packages\\pythonsoftwarefoundation.python.3.12_qbz5n2kfra8p0\\localcache\\local-packages\\python312\\site-packages (from pandas) (2024.1)\n",
      "Requirement already satisfied: six>=1.5 in c:\\users\\mkp15\\appdata\\local\\packages\\pythonsoftwarefoundation.python.3.12_qbz5n2kfra8p0\\localcache\\local-packages\\python312\\site-packages (from python-dateutil>=2.8.2->pandas) (1.16.0)\n",
      "Note: you may need to restart the kernel to use updated packages.\n"
     ]
    },
    {
     "name": "stderr",
     "output_type": "stream",
     "text": [
      "\n",
      "[notice] A new release of pip is available: 24.0 -> 24.1.2\n",
      "[notice] To update, run: C:\\Users\\mkp15\\AppData\\Local\\Microsoft\\WindowsApps\\PythonSoftwareFoundation.Python.3.12_qbz5n2kfra8p0\\python.exe -m pip install --upgrade pip\n"
     ]
    }
   ],
   "source": [
    "pip install pandas "
   ]
  },
  {
   "cell_type": "code",
   "execution_count": 3,
   "metadata": {},
   "outputs": [],
   "source": [
    "from flask import Flask,render_template_string,render_template  \n",
    "from werkzeug.serving import run_simple \n",
    "import pandas as pd"
   ]
  },
  {
   "cell_type": "code",
   "execution_count": 4,
   "metadata": {},
   "outputs": [],
   "source": [
    "df = pd.read_csv('Data.csv') \n"
   ]
  },
  {
   "cell_type": "code",
   "execution_count": 5,
   "metadata": {},
   "outputs": [],
   "source": [
    "webpage=Flask(__name__)\n",
    "@webpage.route('/')\n",
    "def home():\n",
    "    data_html=df.to_html(index=False) \n",
    "    return render_template_string('''\n",
    "    <!DOCTYPE html>\n",
    "    <head>\n",
    "    <style>\n",
    "    body {background-color:powderblue;}\n",
    "    h1   {color: black;}\n",
    "    p    {color: red;}\n",
    "    </style>\n",
    "    </head>\n",
    "    <html>\n",
    "    <body>\n",
    "                 \n",
    "\n",
    "        <h1>Salary of the Data Professionals</h1>\n",
    "        <p>Welcome to our Database.</p>\n",
    "        <div>{{data|safe}} </div>\n",
    "\n",
    "   </body>\n",
    "   </html>\n",
    "   ''',data=data_html)\n",
    "@webpage.route('/about')\n",
    "def about():\n",
    "    return  render_template_string('''\n",
    "    <!DOCTYPE html>\n",
    "    <html>\n",
    "    <head>\n",
    "    <style>\n",
    "    body {background-color:powderblue;}\n",
    "    h1   {color: black;}\n",
    "    p    {color: red;}\n",
    "    </style>\n",
    "    </head>\n",
    "    <body>                                                             \n",
    "         \n",
    "        <h1>Salary of the Employees</h1>\n",
    "        <p>The source of the data in this website is from 'Kaggle'.</p>\n",
    "        <p>We Have different variables that explains the salary of the employees</p>\n",
    "        <h3>Description of each Variable</h3>\n",
    "        <ul>\n",
    "            <li><b>First Name:</b>Individual's given name</li>\n",
    "            <li><b>Last Name:</b>Surname or Family name of individual</li>\n",
    "            <li><b>DOJ:</b>The date when the employee join the company.</li>\n",
    "            <li><b>Designation:</b>The position of the employee in the company.</li>\n",
    "            <li><b>Age:</b>Age of the person</li>\n",
    "            <li><b>Salary:</b>Monthly salary of each employee.</li>\n",
    "            <li><b>Department:</b>The specific category in the organization where the employee works.</li>\n",
    "            <li><b>Past Experience:</b>Number of years an employee worked before joining the company</li>  \n",
    "                         \n",
    "    </body>\n",
    "    </html>                             \n",
    "    ''')\n"
   ]
  },
  {
   "cell_type": "code",
   "execution_count": 6,
   "metadata": {},
   "outputs": [
    {
     "name": "stderr",
     "output_type": "stream",
     "text": [
      "WARNING: This is a development server. Do not use it in a production deployment. Use a production WSGI server instead.\n",
      " * Running on http://localhost:8500\n",
      "Press CTRL+C to quit\n",
      "127.0.0.1 - - [17/Jul/2024 12:43:03] \"GET / HTTP/1.1\" 200 -\n",
      "127.0.0.1 - - [17/Jul/2024 12:43:07] \"GET /about HTTP/1.1\" 200 -\n"
     ]
    }
   ],
   "source": [
    "run_simple('localhost',8500,webpage,use_reloader=False,use_debugger=False)"
   ]
  },
  {
   "cell_type": "code",
   "execution_count": null,
   "metadata": {},
   "outputs": [],
   "source": []
  }
 ],
 "metadata": {
  "kernelspec": {
   "display_name": "Python 3",
   "language": "python",
   "name": "python3"
  },
  "language_info": {
   "codemirror_mode": {
    "name": "ipython",
    "version": 3
   },
   "file_extension": ".py",
   "mimetype": "text/x-python",
   "name": "python",
   "nbconvert_exporter": "python",
   "pygments_lexer": "ipython3",
   "version": "3.12.4"
  }
 },
 "nbformat": 4,
 "nbformat_minor": 2
}
